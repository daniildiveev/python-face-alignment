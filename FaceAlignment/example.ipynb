{
  "nbformat": 4,
  "nbformat_minor": 0,
  "metadata": {
    "colab": {
      "provenance": [],
      "collapsed_sections": []
    },
    "kernelspec": {
      "name": "python3",
      "display_name": "Python 3"
    },
    "language_info": {
      "name": "python"
    }
  },
  "cells": [
    {
      "cell_type": "code",
      "source": [
        "!unzip /content/drive/MyDrive/python-face-alignment-dev.zip"
      ],
      "metadata": {
        "id": "bFEoilrU9Uqf"
      },
      "execution_count": null,
      "outputs": []
    },
    {
      "cell_type": "code",
      "source": [
        "!unzip /content/drive/MyDrive/datasets/data.zip"
      ],
      "metadata": {
        "id": "2jcRQbLc9vYX"
      },
      "execution_count": null,
      "outputs": []
    },
    {
      "cell_type": "code",
      "source": [
        "!python python-face-alignment-dev/TrainDemo.py"
      ],
      "metadata": {
        "id": "Ng-uEk3i_REo"
      },
      "execution_count": null,
      "outputs": []
    }
  ]
}